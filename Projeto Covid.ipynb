{
 "cells": [
  {
   "cell_type": "markdown",
   "metadata": {},
   "source": [
    "# Projeto Final - Semantix Academy\n",
    "### Turma 202"
   ]
  },
  {
   "cell_type": "markdown",
   "metadata": {},
   "source": [
    "<p>Arquivo salvo na minha maquina.</p>\n",
    "<p>Descompactei os arquivos</p>\n",
    "<p>Arquivos enviados para o Spark/input/covid19</p>\n",
    "<p>Entrei no container namenode bash</p>\n",
    "<p>E realizei o -put dos arquivos para dentro do hdfs</p>\n",
    "<p>\n",
    "root@namenode:/input# cd covid19<br>\n",
    "root@namenode:/input/covid19# ls<br>\n",
    "HIST_PAINEL_COVIDBR_2020_Parte1_06jul2021.csv  HIST_PAINEL_COVIDBR_2021_Parte1_06jul2021.csv\n",
    "HIST_PAINEL_COVIDBR_2020_Parte2_06jul2021.csv  HIST_PAINEL_COVIDBR_2021_Parte2_06jul2021.csv<br>\n",
    "root@namenode:/input/covid19# hdfs dfs -mkdir /covid19<br>\n",
    "root@namenode:/input/covid19# hdfs dfs -put * /covid19<br>\n",
    "root@namenode:/input/covid19# hdfs dfs -ls /covid19<br>\n",
    "Found 4 items<br>\n",
    "-rw-r--r--   3 root supergroup   62492959 2022-04-22 17:06 /covid19/HIST_PAINEL_COVIDBR_2020_Parte1_06jul2021.csv<br>\n",
    "-rw-r--r--   3 root supergroup   76520681 2022-04-22 17:06 /covid19/HIST_PAINEL_COVIDBR_2020_Parte2_06jul2021.csv<br>\n",
    "-rw-r--r--   3 root supergroup   91120916 2022-04-22 17:06 /covid19/HIST_PAINEL_COVIDBR_2021_Parte1_06jul2021.csv<br>\n",
    "-rw-r--r--   3 root supergroup    3046774 2022-04-22 17:06 /covid19/HIST_PAINEL_COVIDBR_2021_Parte2_06jul2021.csv<br>\n",
    "</p>    "
   ]
  },
  {
   "cell_type": "code",
   "execution_count": 1,
   "metadata": {},
   "outputs": [],
   "source": [
    "spark.sparkContext.setLogLevel(\"INFO\")\n"
   ]
  },
  {
   "cell_type": "code",
   "execution_count": 2,
   "metadata": {},
   "outputs": [
    {
     "data": {
      "text/plain": [
       "[Database(name='covid19', description='Projeto-Semantix', locationUri='hdfs://namenode:8020/user/hive/warehouse/covid19.db'),\n",
       " Database(name='default', description='Default Hive database', locationUri='hdfs://namenode:8020/user/hive/warehouse')]"
      ]
     },
     "execution_count": 2,
     "metadata": {},
     "output_type": "execute_result"
    }
   ],
   "source": [
    "spark.catalog.listDatabases()"
   ]
  },
  {
   "cell_type": "code",
   "execution_count": 3,
   "metadata": {},
   "outputs": [],
   "source": [
    "spark.catalog.setCurrentDatabase(\"covid19\")"
   ]
  },
  {
   "cell_type": "code",
   "execution_count": 4,
   "metadata": {},
   "outputs": [
    {
     "data": {
      "text/plain": [
       "'covid19'"
      ]
     },
     "execution_count": 4,
     "metadata": {},
     "output_type": "execute_result"
    }
   ],
   "source": [
    "spark.catalog.currentDatabase()"
   ]
  },
  {
   "cell_type": "code",
   "execution_count": 5,
   "metadata": {},
   "outputs": [
    {
     "data": {
      "text/plain": [
       "[]"
      ]
     },
     "execution_count": 5,
     "metadata": {},
     "output_type": "execute_result"
    }
   ],
   "source": [
    "spark.catalog.listTables()"
   ]
  },
  {
   "cell_type": "code",
   "execution_count": 6,
   "metadata": {},
   "outputs": [
    {
     "name": "stdout",
     "output_type": "stream",
     "text": [
      "+------+------+---------+-----+------+--------------+---------------+----------+---------+----------------+--------------+----------+---------------+-----------+----------------+---------------------+----------------------+---------------+----------------+----------+\n",
      "|regiao|estado|municipio|coduf|codmun|codRegiaoSaude|nomeRegiaoSaude|      data|semanaEpi|populacaoTCU2019|casosAcumulado|casosNovos|obitosAcumulado|obitosNovos|Recuperadosnovos|emAcompanhamentoNovos|interior/metropolitana|incidenciaCasos|incidenciaObitos|letalidade|\n",
      "+------+------+---------+-----+------+--------------+---------------+----------+---------+----------------+--------------+----------+---------------+-----------+----------------+---------------------+----------------------+---------------+----------------+----------+\n",
      "|Brasil|  null|     null|   76|  null|          null|           null|2020-02-25|        9|       210147125|             0|         0|              0|          0|            null|                 null|                  null|           0.00|            0.00|      null|\n",
      "|Brasil|  null|     null|   76|  null|          null|           null|2020-02-26|        9|       210147125|             1|         1|              0|          0|            null|                 null|                  null|           0.00|            0.00|      0.00|\n",
      "|Brasil|  null|     null|   76|  null|          null|           null|2020-02-27|        9|       210147125|             1|         0|              0|          0|            null|                 null|                  null|           0.00|            0.00|      0.00|\n",
      "|Brasil|  null|     null|   76|  null|          null|           null|2020-02-28|        9|       210147125|             1|         0|              0|          0|            null|                 null|                  null|           0.00|            0.00|      0.00|\n",
      "|Brasil|  null|     null|   76|  null|          null|           null|2020-02-29|        9|       210147125|             2|         1|              0|          0|            null|                 null|                  null|           0.00|            0.00|      0.00|\n",
      "+------+------+---------+-----+------+--------------+---------------+----------+---------+----------------+--------------+----------+---------------+-----------+----------------+---------------------+----------------------+---------------+----------------+----------+\n",
      "only showing top 5 rows\n",
      "\n",
      "root\n",
      " |-- regiao: string (nullable = true)\n",
      " |-- estado: string (nullable = true)\n",
      " |-- municipio: string (nullable = true)\n",
      " |-- coduf: string (nullable = true)\n",
      " |-- codmun: integer (nullable = true)\n",
      " |-- codRegiaoSaude: integer (nullable = true)\n",
      " |-- nomeRegiaoSaude: string (nullable = true)\n",
      " |-- data: string (nullable = true)\n",
      " |-- semanaEpi: integer (nullable = true)\n",
      " |-- populacaoTCU2019: integer (nullable = true)\n",
      " |-- casosAcumulado: integer (nullable = true)\n",
      " |-- casosNovos: integer (nullable = true)\n",
      " |-- obitosAcumulado: string (nullable = true)\n",
      " |-- obitosNovos: integer (nullable = true)\n",
      " |-- Recuperadosnovos: integer (nullable = true)\n",
      " |-- emAcompanhamentoNovos: integer (nullable = true)\n",
      " |-- interior/metropolitana: string (nullable = true)\n",
      " |-- incidenciaCasos: string (nullable = true)\n",
      " |-- incidenciaObitos: string (nullable = true)\n",
      " |-- letalidade: string (nullable = true)\n",
      "\n"
     ]
    },
    {
     "data": {
      "text/plain": [
       "714481"
      ]
     },
     "execution_count": 6,
     "metadata": {},
     "output_type": "execute_result"
    }
   ],
   "source": [
    "from pyspark.sql.functions import *\n",
    "from pyspark.sql.types import *\n",
    "from datetime import datetime, timedelta\n",
    "\n",
    "estrutura_colunas = [\n",
    "    \n",
    "    StructField(\"regiao\", StringType()),\n",
    "    StructField(\"estado\", StringType()),\n",
    "    StructField(\"municipio\", StringType()),\n",
    "    StructField(\"coduf\", StringType()),\n",
    "    StructField(\"codmun\", IntegerType()),\n",
    "    StructField(\"codRegiaoSaude\", IntegerType()),\n",
    "    StructField(\"nomeRegiaoSaude\", StringType()),\n",
    "    StructField(\"data\", StringType()),\n",
    "    StructField(\"semanaEpi\", IntegerType()),\n",
    "    StructField(\"populacaoTCU2019\", IntegerType()),\n",
    "    StructField(\"casosAcumulado\", IntegerType()),\n",
    "    StructField(\"casosNovos\", IntegerType()),\n",
    "    StructField(\"obitosAcumulado\", StringType()),\n",
    "    StructField(\"obitosNovos\", IntegerType()),\n",
    "    StructField(\"Recuperadosnovos\", IntegerType()),\n",
    "    StructField(\"emAcompanhamentoNovos\", IntegerType()),\n",
    "    StructField(\"interior/metropolitana\", StringType())\n",
    "]\n",
    "\n",
    "schema_names = StructType(estrutura_colunas)\n",
    "\n",
    "df = spark.read.csv(\"/covid19/HIST_PAINEL_COVIDBR_2020_Parte1_06jul2021.csv\", header='true',sep=';', schema = schema_names)\n",
    "df = df.withColumn(\"incidenciaCasos\", format_number(col(\"casosAcumulado\")/(col(\"populacaoTCU2019\")/100000),2))\n",
    "df = df.withColumn(\"incidenciaObitos\", format_number(col(\"obitosAcumulado\")/(col(\"populacaoTCU2019\")/100000),2))\n",
    "df = df.withColumn(\"letalidade\", format_number((col(\"obitosAcumulado\")/col(\"casosAcumulado\"))*100,2))\n",
    "\n",
    "df.show(5)\n",
    "df.printSchema()\n",
    "df.count()"
   ]
  },
  {
   "cell_type": "markdown",
   "metadata": {},
   "source": [
    "Na hora que efetuei a leitura dos 4 arquivos para criação da tabela,<br>\n",
    "meu pc nao aguentou o tamanho dos arquivos e estava travando.<br>\n",
    "Com isso fiz a leitura de um arquivo apenas: \"HIST_PAINEL_COVIDBR_2020_Parte1_06jul2021.csv\"<br>\n"
   ]
  },
  {
   "cell_type": "code",
   "execution_count": 8,
   "metadata": {},
   "outputs": [],
   "source": [
    "#Particionando os dados por \"Municipio\"\n",
    "df.write.mode(\"overwrite\").partitionBy(\"municipio\").saveAsTable(\"DadosCovid19\")"
   ]
  },
  {
   "cell_type": "code",
   "execution_count": 9,
   "metadata": {},
   "outputs": [
    {
     "data": {
      "text/plain": [
       "[Table(name='dadoscovid19', database='covid19', description=None, tableType='MANAGED', isTemporary=False)]"
      ]
     },
     "execution_count": 9,
     "metadata": {},
     "output_type": "execute_result"
    }
   ],
   "source": [
    "#Demonstrando a Criação da Tabela\n",
    "spark.catalog.listTables()"
   ]
  },
  {
   "cell_type": "code",
   "execution_count": 41,
   "metadata": {},
   "outputs": [],
   "source": [
    "maxData = df.select(\"regiao\",\"data\").filter(col(\"regiao\") == \"Brasil\").agg(max(\"data\")).collect()[0][\"max(data)\"]"
   ]
  },
  {
   "cell_type": "code",
   "execution_count": 17,
   "metadata": {},
   "outputs": [
    {
     "name": "stdout",
     "output_type": "stream",
     "text": [
      "+------+------+---------+-----+------+--------------+---------------+----------+---------+----------------+--------------+----------+---------------+-----------+----------------+---------------------+----------------------+---------------+----------------+----------+\n",
      "|regiao|estado|municipio|coduf|codmun|codRegiaoSaude|nomeRegiaoSaude|      data|semanaEpi|populacaoTCU2019|casosAcumulado|casosNovos|obitosAcumulado|obitosNovos|Recuperadosnovos|emAcompanhamentoNovos|interior/metropolitana|incidenciaCasos|incidenciaObitos|letalidade|\n",
      "+------+------+---------+-----+------+--------------+---------------+----------+---------+----------------+--------------+----------+---------------+-----------+----------------+---------------------+----------------------+---------------+----------------+----------+\n",
      "|Brasil|  null|     null|   76|  null|          null|           null|2020-02-25|        9|       210147125|             0|         0|              0|          0|            null|                 null|                  null|           0.00|            0.00|      null|\n",
      "|Brasil|  null|     null|   76|  null|          null|           null|2020-02-26|        9|       210147125|             1|         1|              0|          0|            null|                 null|                  null|           0.00|            0.00|      0.00|\n",
      "|Brasil|  null|     null|   76|  null|          null|           null|2020-02-27|        9|       210147125|             1|         0|              0|          0|            null|                 null|                  null|           0.00|            0.00|      0.00|\n",
      "|Brasil|  null|     null|   76|  null|          null|           null|2020-02-28|        9|       210147125|             1|         0|              0|          0|            null|                 null|                  null|           0.00|            0.00|      0.00|\n",
      "|Brasil|  null|     null|   76|  null|          null|           null|2020-02-29|        9|       210147125|             2|         1|              0|          0|            null|                 null|                  null|           0.00|            0.00|      0.00|\n",
      "+------+------+---------+-----+------+--------------+---------------+----------+---------+----------------+--------------+----------+---------------+-----------+----------------+---------------------+----------------------+---------------+----------------+----------+\n",
      "only showing top 5 rows\n",
      "\n"
     ]
    }
   ],
   "source": [
    "df.show(5)"
   ]
  },
  {
   "cell_type": "code",
   "execution_count": 42,
   "metadata": {},
   "outputs": [],
   "source": [
    "Painel1 = df.filter(col(\"regiao\") == \"Brasil\").\\\n",
    "            filter(col(\"data\") == maxData).\\\n",
    "            select(\"Recuperadosnovos\",\"emAcompanhamentoNovos\") \n",
    "Painel2 = df.filter(col(\"regiao\") == \"Brasil\").\\\n",
    "            filter(col(\"data\") == maxData).\\\n",
    "            select(\"casosAcumulado\",\"casosNovos\",\"incidenciaCasos\")\n",
    "Painel3 = df.filter(col(\"regiao\") == \"Brasil\").\\\n",
    "            filter(col(\"data\") == maxData).\\\n",
    "            select(\"obitosAcumulado\",\"obitosNovos\",\"incidenciaObitos\",\"letalidade\")\n"
   ]
  },
  {
   "cell_type": "code",
   "execution_count": 45,
   "metadata": {},
   "outputs": [
    {
     "name": "stdout",
     "output_type": "stream",
     "text": [
      "+----------------+---------------------+\n",
      "|Recuperadosnovos|emAcompanhamentoNovos|\n",
      "+----------------+---------------------+\n",
      "|         1844051|               725959|\n",
      "+----------------+---------------------+\n",
      "\n"
     ]
    }
   ],
   "source": [
    "Painel1.show()"
   ]
  },
  {
   "cell_type": "code",
   "execution_count": 46,
   "metadata": {},
   "outputs": [
    {
     "name": "stdout",
     "output_type": "stream",
     "text": [
      "+--------------+----------+---------------+\n",
      "|casosAcumulado|casosNovos|incidenciaCasos|\n",
      "+--------------+----------+---------------+\n",
      "|       2662485|     52383|       1,266.96|\n",
      "+--------------+----------+---------------+\n",
      "\n"
     ]
    }
   ],
   "source": [
    "Painel2.show()"
   ]
  },
  {
   "cell_type": "code",
   "execution_count": 48,
   "metadata": {},
   "outputs": [
    {
     "name": "stdout",
     "output_type": "stream",
     "text": [
      "+---------------+-----------+----------------+----------+\n",
      "|obitosAcumulado|obitosNovos|incidenciaObitos|letalidade|\n",
      "+---------------+-----------+----------------+----------+\n",
      "|          92475|       1212|           44.00|      3.47|\n",
      "+---------------+-----------+----------------+----------+\n",
      "\n"
     ]
    }
   ],
   "source": [
    "Painel3.show()"
   ]
  },
  {
   "cell_type": "code",
   "execution_count": 49,
   "metadata": {},
   "outputs": [],
   "source": [
    "Painel1.write.mode(\"overwrite\").saveAsTable(\"Painel1Covid19\")"
   ]
  },
  {
   "cell_type": "code",
   "execution_count": 50,
   "metadata": {},
   "outputs": [
    {
     "data": {
      "text/plain": [
       "[Table(name='dadoscovid19', database='covid19', description=None, tableType='MANAGED', isTemporary=False),\n",
       " Table(name='painel1covid19', database='covid19', description=None, tableType='MANAGED', isTemporary=False)]"
      ]
     },
     "execution_count": 50,
     "metadata": {},
     "output_type": "execute_result"
    }
   ],
   "source": [
    "spark.catalog.listTables()"
   ]
  },
  {
   "cell_type": "code",
   "execution_count": 51,
   "metadata": {},
   "outputs": [],
   "source": [
    "Painel2.write.parquet(\"/covid19/Painel2\", compression='snappy')"
   ]
  },
  {
   "cell_type": "code",
   "execution_count": 52,
   "metadata": {},
   "outputs": [
    {
     "name": "stdout",
     "output_type": "stream",
     "text": [
      "Found 2 items\r\n",
      "-rw-r--r--   2 root supergroup          0 2022-04-22 19:46 /covid19/Painel2/_SUCCESS\r\n",
      "-rw-r--r--   2 root supergroup        927 2022-04-22 19:46 /covid19/Painel2/part-00000-9fdcad14-6a91-4604-ae8a-f9e68a661100-c000.snappy.parquet\r\n"
     ]
    }
   ],
   "source": [
    "!hdfs dfs -ls /covid19/Painel2"
   ]
  },
  {
   "cell_type": "code",
   "execution_count": 53,
   "metadata": {},
   "outputs": [],
   "source": [
    "kafka_obitos_acumulado = Painel3.select(\"obitosAcumulado\")\\\n",
    "                       .withColumnRenamed(\"obitosAcumulado\",\"value\")\\\n",
    "                       .withColumn(\"value\",col(\"value\").cast(StringType()))\n",
    "\n",
    "kafka_obitos_acumulado.write.format('kafka')\\\n",
    "              .option(\"kafka.bootstrap.servers\",\"kafka:9092\")\\\n",
    "              .option(\"topic\",\"topic-kafka-obitos\")\\\n",
    "              .save()\n",
    "\n",
    "kafka_novosObitos = Painel3.select(\"obitosNovos\")\\\n",
    "                       .withColumnRenamed(\"obitosNovos\",\"value\")\\\n",
    "                       .withColumn(\"value\",col(\"value\").cast(StringType()))\n",
    "\n",
    "kafka_novosObitos.write.format('kafka')\\\n",
    "              .option(\"kafka.bootstrap.servers\",\"kafka:9092\")\\\n",
    "              .option(\"topic\",\"topic-kafka-NovosObitos\")\\\n",
    "              .save()\n",
    "\n",
    "kafka_incidenciaObitos = Painel3.select(\"incidenciaObitos\")\\\n",
    "                       .withColumnRenamed(\"incidenciaObitos\",\"value\")\\\n",
    "                       .withColumn(\"value\",col(\"value\").cast(StringType()))\n",
    "\n",
    "kafka_incidenciaObitos.write.format('kafka')\\\n",
    "              .option(\"kafka.bootstrap.servers\",\"kafka:9092\")\\\n",
    "              .option(\"topic\",\"topic-kafka-incidenciaObitos\")\\\n",
    "              .save()\n",
    "\n",
    "kafka_letalidade = Painel3.select(\"letalidade\")\\\n",
    "                       .withColumnRenamed(\"letalidade\",\"value\")\\\n",
    "                       .withColumn(\"value\",col(\"value\").cast(StringType()))\n",
    "\n",
    "kafka_incidenciaObitos.write.format('kafka')\\\n",
    "              .option(\"kafka.bootstrap.servers\",\"kafka:9092\")\\\n",
    "              .option(\"topic\",\"topic-kafka-letalidade\")\\\n",
    "              .save()"
   ]
  },
  {
   "cell_type": "code",
   "execution_count": 75,
   "metadata": {},
   "outputs": [
    {
     "name": "stdout",
     "output_type": "stream",
     "text": [
      "+------------+--------+---------+----------+-----------+\n",
      "|      regiao|   Casos|    Óbtos|Incidência|Mortalidade|\n",
      "+------------+--------+---------+----------+-----------+\n",
      "|    Nordeste|67203769|2704773.0|     146.1|        7.9|\n",
      "|         Sul|12644537| 275955.0|     102.1|        2.7|\n",
      "|     Sudeste|70142488|3985102.0|     103.4|        4.8|\n",
      "|Centro-Oeste|14068947| 284181.0|      96.4|        3.6|\n",
      "|       Norte|35543862|1347798.0|     165.1|       13.8|\n",
      "+------------+--------+---------+----------+-----------+\n",
      "\n"
     ]
    }
   ],
   "source": [
    "df.select(\"regiao\",\"estado\",\"casosAcumulado\",\"obitosAcumulado\",\"incidenciaCasos\",\"incidenciaObitos\").filter(col(\"regiao\")!= \"Brasil\").groupBy(\"regiao\").agg(sum(\"casosAcumulado\").alias(\"Casos\"),\\\n",
    "                                                                                                    sum(\"obitosAcumulado\").alias(\"Óbtos\"),\\\n",
    "                                                                                                    format_number(avg(\"incidenciaCasos\"),1).alias(\"Incidência\"),\\\n",
    "                                                                                                    format_number(avg(\"incidenciaObitos\"),1).alias(\"Mortalidade\"),\\\n",
    "                                                                                                    ).show(10)\n"
   ]
  },
  {
   "cell_type": "code",
   "execution_count": 76,
   "metadata": {},
   "outputs": [],
   "source": [
    "from pandas.io.json import json_normalize\n",
    "import json\n",
    "import requests\n",
    "import matplotlib.pyplot as plt\n",
    "from pyspark.sql import SparkSession\n",
    "from pyspark import SparkContext\n",
    "from pyspark import SQLContext"
   ]
  },
  {
   "cell_type": "code",
   "execution_count": 77,
   "metadata": {},
   "outputs": [
    {
     "data": {
      "text/plain": [
       "{'obitosAcumulado': '92475',\n",
       " 'obitosNovos': 1212,\n",
       " 'incidenciaObitos': '44.00',\n",
       " 'letalidade': '3.47'}"
      ]
     },
     "execution_count": 77,
     "metadata": {},
     "output_type": "execute_result"
    }
   ],
   "source": [
    "Texto = Painel3.collect()[0].asDict()\n",
    "Texto"
   ]
  },
  {
   "cell_type": "code",
   "execution_count": null,
   "metadata": {},
   "outputs": [],
   "source": [
    "URL = \"https://desafiosemantix.es.us-west1.gcp.cloud.es.io:9243/dadospainel2/_doc/1\"\n",
    "headers = {'Content-type': 'application/json; charset=utf8'}\n",
    "response = requests.post(URL, auth=('elastic', 'gPbGxozAcdl5rHBeXFdlnJdY'),json=doc,headers=headers)\n",
    "response.encoding\n",
    "response.text\n",
    "response.json()"
   ]
  }
 ],
 "metadata": {
  "kernelspec": {
   "display_name": "PySpark",
   "language": "python",
   "name": "pyspark"
  },
  "language_info": {
   "codemirror_mode": {
    "name": "ipython",
    "version": 3
   },
   "file_extension": ".py",
   "mimetype": "text/x-python",
   "name": "python",
   "nbconvert_exporter": "python",
   "pygments_lexer": "ipython3",
   "version": "3.6.10"
  }
 },
 "nbformat": 4,
 "nbformat_minor": 2
}
